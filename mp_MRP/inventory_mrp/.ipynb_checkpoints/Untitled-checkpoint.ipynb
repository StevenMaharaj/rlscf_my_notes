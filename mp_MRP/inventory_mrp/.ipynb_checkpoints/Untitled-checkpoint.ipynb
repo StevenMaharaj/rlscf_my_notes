{
 "cells": [
  {
   "cell_type": "code",
   "execution_count": null,
   "id": "3f7ad5ed-b96c-49a6-bde4-41a963f150cf",
   "metadata": {},
   "outputs": [],
   "source": [
    "from rl.distribution import SampledDistribution\n",
    "import numpy as np\n",
    "@dataclass(frozen=True)\n",
    "class InventoryState:\n",
    "on_hand: int\n",
    "on_order: int\n",
    "def inventory_position(self) -> int:\n",
    "return self.on_hand + self.on_order\n",
    "class SimpleInventoryMRP(MarkovRewardProcess[InventoryState]):\n",
    "def __init__(\n",
    "self,\n",
    "capacity: int,\n",
    "poisson_lambda: float,\n",
    "holding_cost: float,\n",
    "stockout_cost: float\n",
    "):\n",
    "self.capacity = capacity\n",
    "self.poisson_lambda: float = poisson_lambda\n",
    "self.holding_cost: float = holding_cost\n",
    "self.stockout_cost: float = stockout_cost\n",
    "def transition_reward(\n",
    "self,\n",
    "state: NonTerminal[InventoryState]\n",
    ") -> SampledDistribution[Tuple[State[InventoryState], float]]:\n",
    "def sample_next_state_reward(state=state) ->\\\n",
    "Tuple[State[InventoryState], float]:\n",
    "demand_sample: int = np.random.poisson(self.poisson_lambda)\n",
    "ip: int = state.state.inventory_position()\n",
    "next_state: InventoryState = InventoryState(\n",
    "max(ip - demand_sample, 0),\n",
    "max(self.capacity - ip, 0)\n",
    ")\n",
    "reward: float = - self.holding_cost * state.on_hand\\\n",
    "- self.stockout_cost * max(demand_sample - ip, 0)\n",
    "return NonTerminal(next_state), reward\n",
    "return SampledDistribution(sample_next_state_reward)"
   ]
  }
 ],
 "metadata": {
  "kernelspec": {
   "display_name": "Python 3",
   "language": "python",
   "name": "python3"
  },
  "language_info": {
   "codemirror_mode": {
    "name": "ipython",
    "version": 3
   },
   "file_extension": ".py",
   "mimetype": "text/x-python",
   "name": "python",
   "nbconvert_exporter": "python",
   "pygments_lexer": "ipython3",
   "version": "3.9.4"
  }
 },
 "nbformat": 4,
 "nbformat_minor": 5
}
