{
 "cells": [
  {
   "cell_type": "code",
   "execution_count": 7,
   "id": "3f7ad5ed-b96c-49a6-bde4-41a963f150cf",
   "metadata": {},
   "outputs": [],
   "source": [
    "from distribution import SampledDistribution\n",
    "import numpy as np\n",
    "from dataclasses import dataclass\n",
    "from markov_process import *"
   ]
  },
  {
   "cell_type": "code",
   "execution_count": 8,
   "id": "44e2cd6c-c865-412f-925d-da0d6a9d24a9",
   "metadata": {},
   "outputs": [],
   "source": [
    "@dataclass(frozen=True)\n",
    "class InventoryState:\n",
    "    on_hand: int\n",
    "    on_order: int\n",
    "    def inventory_position(self) -> int:\n",
    "        return self.on_hand + self.on_order\n",
    "class SimpleInventoryMRP(MarkovRewardProcess[InventoryState]):\n",
    "    def __init__(\n",
    "        self,\n",
    "        capacity: int,\n",
    "        poisson_lambda: float,\n",
    "        holding_cost: float,\n",
    "        stockout_cost: float\n",
    "        ):\n",
    "        self.capacity = capacity\n",
    "        self.poisson_lambda: float = poisson_lambda\n",
    "        self.holding_cost: float = holding_cost\n",
    "        self.stockout_cost: float = stockout_cost\n",
    "    def transition_reward(\n",
    "        self,\n",
    "        state: NonTerminal[InventoryState]\n",
    "        ) -> SampledDistribution[Tuple[State[InventoryState], float]]:\n",
    "        def sample_next_state_reward(state=state) ->\\\n",
    "            Tuple[State[InventoryState], float]:\n",
    "            demand_sample: int = np.random.poisson(self.poisson_lambda)\n",
    "            ip: int = state.state.inventory_position()\n",
    "            next_state: InventoryState = InventoryState(\n",
    "            max(ip - demand_sample, 0),\n",
    "            max(self.capacity - ip, 0)\n",
    "            )\n",
    "            reward: float = - self.holding_cost * state.on_hand\\\n",
    "            - self.stockout_cost * max(demand_sample - ip, 0)\n",
    "            return NonTerminal(next_state), reward\n",
    "    \n",
    "        return SampledDistribution(sample_next_state_reward)"
   ]
  },
  {
   "cell_type": "code",
   "execution_count": 11,
   "id": "0efed93c-ee25-41a4-9ae8-5de041851112",
   "metadata": {},
   "outputs": [],
   "source": [
    "sim = SimpleInventoryMRP(capacity=8,poisson_lambda=1,holding_cost=0.001,stockout_cost= 0.01)"
   ]
  },
  {
   "cell_type": "code",
   "execution_count": 13,
   "id": "bee21b32-689f-48a2-9596-0a49adf17aa0",
   "metadata": {},
   "outputs": [
    {
     "ename": "TypeError",
     "evalue": "__init__() missing 1 required positional argument: 'sampler'",
     "output_type": "error",
     "traceback": [
      "\u001b[0;31m---------------------------------------------------------------------------\u001b[0m",
      "\u001b[0;31mTypeError\u001b[0m                                 Traceback (most recent call last)",
      "\u001b[0;32m<ipython-input-13-89f7a142bea1>\u001b[0m in \u001b[0;36m<module>\u001b[0;34m\u001b[0m\n\u001b[0;32m----> 1\u001b[0;31m \u001b[0msim\u001b[0m\u001b[0;34m.\u001b[0m\u001b[0msimulate_reward\u001b[0m\u001b[0;34m(\u001b[0m\u001b[0mSampledDistribution\u001b[0m\u001b[0;34m(\u001b[0m\u001b[0;34m)\u001b[0m\u001b[0;34m)\u001b[0m\u001b[0;34m\u001b[0m\u001b[0;34m\u001b[0m\u001b[0m\n\u001b[0m",
      "\u001b[0;31mTypeError\u001b[0m: __init__() missing 1 required positional argument: 'sampler'"
     ]
    }
   ],
   "source": [
    "sim.simulate_reward(SampledDistribution())"
   ]
  },
  {
   "cell_type": "code",
   "execution_count": null,
   "id": "bff88a6d-cf4a-4c34-b174-cf76f4165c79",
   "metadata": {},
   "outputs": [],
   "source": []
  }
 ],
 "metadata": {
  "kernelspec": {
   "display_name": "Python 3",
   "language": "python",
   "name": "python3"
  },
  "language_info": {
   "codemirror_mode": {
    "name": "ipython",
    "version": 3
   },
   "file_extension": ".py",
   "mimetype": "text/x-python",
   "name": "python",
   "nbconvert_exporter": "python",
   "pygments_lexer": "ipython3",
   "version": "3.9.4"
  }
 },
 "nbformat": 4,
 "nbformat_minor": 5
}
